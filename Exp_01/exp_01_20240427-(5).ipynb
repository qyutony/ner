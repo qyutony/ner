{
 "cells": [
  {
   "cell_type": "markdown",
   "metadata": {},
   "source": [
    "### NER\n",
    "\n",
    "- word2vec, google-news-300\n",
    "- bilstm\n",
    "- crf"
   ]
  },
  {
   "cell_type": "code",
   "execution_count": 1,
   "metadata": {},
   "outputs": [
    {
     "name": "stdout",
     "output_type": "stream",
     "text": [
      "WARNING:tensorflow:From c:\\Users\\tqin0\\AppData\\Local\\Programs\\Python\\Python310\\lib\\site-packages\\keras\\src\\losses.py:2976: The name tf.losses.sparse_softmax_cross_entropy is deprecated. Please use tf.compat.v1.losses.sparse_softmax_cross_entropy instead.\n",
      "\n"
     ]
    }
   ],
   "source": [
    "# import library\n",
    "import pandas as pd\n",
    "import numpy as np\n",
    "import tensorflow as tf\n",
    "import string\n",
    "import re\n",
    "import random\n",
    "import seaborn as sns\n",
    "%matplotlib inline\n",
    "import matplotlib.pyplot as plt\n",
    "import seaborn as sns\n",
    "from gensim.models import word2vec, FastText\n",
    "import gensim.downloader\n",
    "from sklearn.decomposition import PCA"
   ]
  },
  {
   "cell_type": "code",
   "execution_count": 2,
   "metadata": {},
   "outputs": [
    {
     "data": {
      "text/html": [
       "<div>\n",
       "<style scoped>\n",
       "    .dataframe tbody tr th:only-of-type {\n",
       "        vertical-align: middle;\n",
       "    }\n",
       "\n",
       "    .dataframe tbody tr th {\n",
       "        vertical-align: top;\n",
       "    }\n",
       "\n",
       "    .dataframe thead th {\n",
       "        text-align: right;\n",
       "    }\n",
       "</style>\n",
       "<table border=\"1\" class=\"dataframe\">\n",
       "  <thead>\n",
       "    <tr style=\"text-align: right;\">\n",
       "      <th></th>\n",
       "      <th>Sentence #</th>\n",
       "      <th>Word</th>\n",
       "      <th>POS</th>\n",
       "      <th>Tag</th>\n",
       "    </tr>\n",
       "  </thead>\n",
       "  <tbody>\n",
       "    <tr>\n",
       "      <th>0</th>\n",
       "      <td>Sentence: 1</td>\n",
       "      <td>Thousands</td>\n",
       "      <td>NNS</td>\n",
       "      <td>O</td>\n",
       "    </tr>\n",
       "    <tr>\n",
       "      <th>1</th>\n",
       "      <td>NaN</td>\n",
       "      <td>of</td>\n",
       "      <td>IN</td>\n",
       "      <td>O</td>\n",
       "    </tr>\n",
       "    <tr>\n",
       "      <th>2</th>\n",
       "      <td>NaN</td>\n",
       "      <td>demonstrators</td>\n",
       "      <td>NNS</td>\n",
       "      <td>O</td>\n",
       "    </tr>\n",
       "    <tr>\n",
       "      <th>3</th>\n",
       "      <td>NaN</td>\n",
       "      <td>have</td>\n",
       "      <td>VBP</td>\n",
       "      <td>O</td>\n",
       "    </tr>\n",
       "    <tr>\n",
       "      <th>4</th>\n",
       "      <td>NaN</td>\n",
       "      <td>marched</td>\n",
       "      <td>VBN</td>\n",
       "      <td>O</td>\n",
       "    </tr>\n",
       "    <tr>\n",
       "      <th>...</th>\n",
       "      <td>...</td>\n",
       "      <td>...</td>\n",
       "      <td>...</td>\n",
       "      <td>...</td>\n",
       "    </tr>\n",
       "    <tr>\n",
       "      <th>1048570</th>\n",
       "      <td>NaN</td>\n",
       "      <td>they</td>\n",
       "      <td>PRP</td>\n",
       "      <td>O</td>\n",
       "    </tr>\n",
       "    <tr>\n",
       "      <th>1048571</th>\n",
       "      <td>NaN</td>\n",
       "      <td>responded</td>\n",
       "      <td>VBD</td>\n",
       "      <td>O</td>\n",
       "    </tr>\n",
       "    <tr>\n",
       "      <th>1048572</th>\n",
       "      <td>NaN</td>\n",
       "      <td>to</td>\n",
       "      <td>TO</td>\n",
       "      <td>O</td>\n",
       "    </tr>\n",
       "    <tr>\n",
       "      <th>1048573</th>\n",
       "      <td>NaN</td>\n",
       "      <td>the</td>\n",
       "      <td>DT</td>\n",
       "      <td>O</td>\n",
       "    </tr>\n",
       "    <tr>\n",
       "      <th>1048574</th>\n",
       "      <td>NaN</td>\n",
       "      <td>attack</td>\n",
       "      <td>NN</td>\n",
       "      <td>O</td>\n",
       "    </tr>\n",
       "  </tbody>\n",
       "</table>\n",
       "<p>1048575 rows × 4 columns</p>\n",
       "</div>"
      ],
      "text/plain": [
       "          Sentence #           Word  POS Tag\n",
       "0        Sentence: 1      Thousands  NNS   O\n",
       "1                NaN             of   IN   O\n",
       "2                NaN  demonstrators  NNS   O\n",
       "3                NaN           have  VBP   O\n",
       "4                NaN        marched  VBN   O\n",
       "...              ...            ...  ...  ..\n",
       "1048570          NaN           they  PRP   O\n",
       "1048571          NaN      responded  VBD   O\n",
       "1048572          NaN             to   TO   O\n",
       "1048573          NaN            the   DT   O\n",
       "1048574          NaN         attack   NN   O\n",
       "\n",
       "[1048575 rows x 4 columns]"
      ]
     },
     "execution_count": 2,
     "metadata": {},
     "output_type": "execute_result"
    }
   ],
   "source": [
    "import pandas as pd\n",
    "df = pd.read_csv(('data/ner_dataset.csv'),encoding = 'unicode_escape')\n",
    "df"
   ]
  },
  {
   "cell_type": "code",
   "execution_count": 3,
   "metadata": {},
   "outputs": [
    {
     "data": {
      "text/html": [
       "<div>\n",
       "<style scoped>\n",
       "    .dataframe tbody tr th:only-of-type {\n",
       "        vertical-align: middle;\n",
       "    }\n",
       "\n",
       "    .dataframe tbody tr th {\n",
       "        vertical-align: top;\n",
       "    }\n",
       "\n",
       "    .dataframe thead th {\n",
       "        text-align: right;\n",
       "    }\n",
       "</style>\n",
       "<table border=\"1\" class=\"dataframe\">\n",
       "  <thead>\n",
       "    <tr style=\"text-align: right;\">\n",
       "      <th></th>\n",
       "      <th>Sentence #</th>\n",
       "      <th>Word</th>\n",
       "      <th>POS</th>\n",
       "      <th>Tag</th>\n",
       "    </tr>\n",
       "  </thead>\n",
       "  <tbody>\n",
       "    <tr>\n",
       "      <th>0</th>\n",
       "      <td>Sentence: 1</td>\n",
       "      <td>Thousands</td>\n",
       "      <td>NNS</td>\n",
       "      <td>O</td>\n",
       "    </tr>\n",
       "    <tr>\n",
       "      <th>1</th>\n",
       "      <td>Sentence: 1</td>\n",
       "      <td>of</td>\n",
       "      <td>IN</td>\n",
       "      <td>O</td>\n",
       "    </tr>\n",
       "    <tr>\n",
       "      <th>2</th>\n",
       "      <td>Sentence: 1</td>\n",
       "      <td>demonstrators</td>\n",
       "      <td>NNS</td>\n",
       "      <td>O</td>\n",
       "    </tr>\n",
       "    <tr>\n",
       "      <th>3</th>\n",
       "      <td>Sentence: 1</td>\n",
       "      <td>have</td>\n",
       "      <td>VBP</td>\n",
       "      <td>O</td>\n",
       "    </tr>\n",
       "    <tr>\n",
       "      <th>4</th>\n",
       "      <td>Sentence: 1</td>\n",
       "      <td>marched</td>\n",
       "      <td>VBN</td>\n",
       "      <td>O</td>\n",
       "    </tr>\n",
       "    <tr>\n",
       "      <th>...</th>\n",
       "      <td>...</td>\n",
       "      <td>...</td>\n",
       "      <td>...</td>\n",
       "      <td>...</td>\n",
       "    </tr>\n",
       "    <tr>\n",
       "      <th>1048570</th>\n",
       "      <td>Sentence: 47959</td>\n",
       "      <td>they</td>\n",
       "      <td>PRP</td>\n",
       "      <td>O</td>\n",
       "    </tr>\n",
       "    <tr>\n",
       "      <th>1048571</th>\n",
       "      <td>Sentence: 47959</td>\n",
       "      <td>responded</td>\n",
       "      <td>VBD</td>\n",
       "      <td>O</td>\n",
       "    </tr>\n",
       "    <tr>\n",
       "      <th>1048572</th>\n",
       "      <td>Sentence: 47959</td>\n",
       "      <td>to</td>\n",
       "      <td>TO</td>\n",
       "      <td>O</td>\n",
       "    </tr>\n",
       "    <tr>\n",
       "      <th>1048573</th>\n",
       "      <td>Sentence: 47959</td>\n",
       "      <td>the</td>\n",
       "      <td>DT</td>\n",
       "      <td>O</td>\n",
       "    </tr>\n",
       "    <tr>\n",
       "      <th>1048574</th>\n",
       "      <td>Sentence: 47959</td>\n",
       "      <td>attack</td>\n",
       "      <td>NN</td>\n",
       "      <td>O</td>\n",
       "    </tr>\n",
       "  </tbody>\n",
       "</table>\n",
       "<p>1048575 rows × 4 columns</p>\n",
       "</div>"
      ],
      "text/plain": [
       "              Sentence #           Word  POS Tag\n",
       "0            Sentence: 1      Thousands  NNS   O\n",
       "1            Sentence: 1             of   IN   O\n",
       "2            Sentence: 1  demonstrators  NNS   O\n",
       "3            Sentence: 1           have  VBP   O\n",
       "4            Sentence: 1        marched  VBN   O\n",
       "...                  ...            ...  ...  ..\n",
       "1048570  Sentence: 47959           they  PRP   O\n",
       "1048571  Sentence: 47959      responded  VBD   O\n",
       "1048572  Sentence: 47959             to   TO   O\n",
       "1048573  Sentence: 47959            the   DT   O\n",
       "1048574  Sentence: 47959         attack   NN   O\n",
       "\n",
       "[1048575 rows x 4 columns]"
      ]
     },
     "execution_count": 3,
     "metadata": {},
     "output_type": "execute_result"
    }
   ],
   "source": [
    "df['Sentence #']=df['Sentence #'].ffill()\n",
    "df"
   ]
  },
  {
   "cell_type": "code",
   "execution_count": 4,
   "metadata": {},
   "outputs": [
    {
     "name": "stderr",
     "output_type": "stream",
     "text": [
      "C:\\Users\\tqin0\\AppData\\Local\\Temp\\ipykernel_16168\\4266400182.py:2: SettingWithCopyWarning: \n",
      "A value is trying to be set on a copy of a slice from a DataFrame\n",
      "\n",
      "See the caveats in the documentation: https://pandas.pydata.org/pandas-docs/stable/user_guide/indexing.html#returning-a-view-versus-a-copy\n",
      "  df.rename(columns = {'Sentence #':'Sentence'},inplace = True)\n"
     ]
    },
    {
     "data": {
      "text/html": [
       "<div>\n",
       "<style scoped>\n",
       "    .dataframe tbody tr th:only-of-type {\n",
       "        vertical-align: middle;\n",
       "    }\n",
       "\n",
       "    .dataframe tbody tr th {\n",
       "        vertical-align: top;\n",
       "    }\n",
       "\n",
       "    .dataframe thead th {\n",
       "        text-align: right;\n",
       "    }\n",
       "</style>\n",
       "<table border=\"1\" class=\"dataframe\">\n",
       "  <thead>\n",
       "    <tr style=\"text-align: right;\">\n",
       "      <th></th>\n",
       "      <th>Sentence</th>\n",
       "      <th>Word</th>\n",
       "      <th>Tag</th>\n",
       "    </tr>\n",
       "  </thead>\n",
       "  <tbody>\n",
       "    <tr>\n",
       "      <th>0</th>\n",
       "      <td>Sentence: 1</td>\n",
       "      <td>Thousands</td>\n",
       "      <td>O</td>\n",
       "    </tr>\n",
       "    <tr>\n",
       "      <th>1</th>\n",
       "      <td>Sentence: 1</td>\n",
       "      <td>of</td>\n",
       "      <td>O</td>\n",
       "    </tr>\n",
       "    <tr>\n",
       "      <th>2</th>\n",
       "      <td>Sentence: 1</td>\n",
       "      <td>demonstrators</td>\n",
       "      <td>O</td>\n",
       "    </tr>\n",
       "    <tr>\n",
       "      <th>3</th>\n",
       "      <td>Sentence: 1</td>\n",
       "      <td>have</td>\n",
       "      <td>O</td>\n",
       "    </tr>\n",
       "    <tr>\n",
       "      <th>4</th>\n",
       "      <td>Sentence: 1</td>\n",
       "      <td>marched</td>\n",
       "      <td>O</td>\n",
       "    </tr>\n",
       "    <tr>\n",
       "      <th>...</th>\n",
       "      <td>...</td>\n",
       "      <td>...</td>\n",
       "      <td>...</td>\n",
       "    </tr>\n",
       "    <tr>\n",
       "      <th>1048570</th>\n",
       "      <td>Sentence: 47959</td>\n",
       "      <td>they</td>\n",
       "      <td>O</td>\n",
       "    </tr>\n",
       "    <tr>\n",
       "      <th>1048571</th>\n",
       "      <td>Sentence: 47959</td>\n",
       "      <td>responded</td>\n",
       "      <td>O</td>\n",
       "    </tr>\n",
       "    <tr>\n",
       "      <th>1048572</th>\n",
       "      <td>Sentence: 47959</td>\n",
       "      <td>to</td>\n",
       "      <td>O</td>\n",
       "    </tr>\n",
       "    <tr>\n",
       "      <th>1048573</th>\n",
       "      <td>Sentence: 47959</td>\n",
       "      <td>the</td>\n",
       "      <td>O</td>\n",
       "    </tr>\n",
       "    <tr>\n",
       "      <th>1048574</th>\n",
       "      <td>Sentence: 47959</td>\n",
       "      <td>attack</td>\n",
       "      <td>O</td>\n",
       "    </tr>\n",
       "  </tbody>\n",
       "</table>\n",
       "<p>1048575 rows × 3 columns</p>\n",
       "</div>"
      ],
      "text/plain": [
       "                Sentence           Word Tag\n",
       "0            Sentence: 1      Thousands   O\n",
       "1            Sentence: 1             of   O\n",
       "2            Sentence: 1  demonstrators   O\n",
       "3            Sentence: 1           have   O\n",
       "4            Sentence: 1        marched   O\n",
       "...                  ...            ...  ..\n",
       "1048570  Sentence: 47959           they   O\n",
       "1048571  Sentence: 47959      responded   O\n",
       "1048572  Sentence: 47959             to   O\n",
       "1048573  Sentence: 47959            the   O\n",
       "1048574  Sentence: 47959         attack   O\n",
       "\n",
       "[1048575 rows x 3 columns]"
      ]
     },
     "execution_count": 4,
     "metadata": {},
     "output_type": "execute_result"
    }
   ],
   "source": [
    "df = df[['Sentence #','Word','Tag']]\n",
    "df.rename(columns = {'Sentence #':'Sentence'},inplace = True)\n",
    "df"
   ]
  },
  {
   "cell_type": "code",
   "execution_count": 5,
   "metadata": {},
   "outputs": [
    {
     "data": {
      "image/png": "[encoded data removed]",
      "text/plain": [
       "<Figure size 640x480 with 1 Axes>"
      ]
     },
     "metadata": {},
     "output_type": "display_data"
    }
   ],
   "source": [
    "# show pos distribution\n",
    "sns.histplot(df[df['Tag'] != 'O']['Tag'])\n",
    "plt.xticks(rotation = 45, ha = 'right')\n",
    "plt.title('Tag Distribution')\n",
    "plt.show()"
   ]
  },
  {
   "cell_type": "code",
   "execution_count": 6,
   "metadata": {},
   "outputs": [
    {
     "name": "stdout",
     "output_type": "stream",
     "text": [
      "<class 'pandas.core.frame.DataFrame'>\n",
      "RangeIndex: 1048575 entries, 0 to 1048574\n",
      "Data columns (total 3 columns):\n",
      " #   Column    Non-Null Count    Dtype \n",
      "---  ------    --------------    ----- \n",
      " 0   Sentence  1048575 non-null  object\n",
      " 1   Word      1048565 non-null  object\n",
      " 2   Tag       1048575 non-null  object\n",
      "dtypes: object(3)\n",
      "memory usage: 24.0+ MB\n"
     ]
    }
   ],
   "source": [
    "df.info()"
   ]
  },
  {
   "cell_type": "code",
   "execution_count": 7,
   "metadata": {},
   "outputs": [
    {
     "name": "stdout",
     "output_type": "stream",
     "text": [
      "Unique sentences number - 47959\n",
      "Unique vocabs number - 35177\n"
     ]
    }
   ],
   "source": [
    "print('Unique sentences number - ' + str(df['Sentence'].nunique()))\n",
    "print('Unique vocabs number - ' + str(df['Word'].nunique())) # 此时word中同时存在大小写"
   ]
  },
  {
   "cell_type": "markdown",
   "metadata": {},
   "source": [
    "Build model"
   ]
  },
  {
   "cell_type": "code",
   "execution_count": 8,
   "metadata": {},
   "outputs": [],
   "source": [
    "import xml.etree.ElementTree as ET\n",
    "# 一种以编程方式处理 XML 文档的方法\n",
    "\n",
    "import tensorflow as tf\n",
    "\n",
    "from tensorflow.keras.layers import TextVectorization\n",
    "# 导入了 TextVectorization 层。这个层用于对文本数据进行预处理,将其转换为数字表示,\n",
    "# 以便作为神经网络的输入\n",
    "\n",
    "import gensim.downloader as api\n",
    "# downloader 模块提供了一种下载预训练词嵌入的方法,词嵌入是对单词的数字化表示,\n",
    "# 可以捕捉它们之间的语义和语法关系\n",
    "\n",
    "from tensorflow.keras.layers import Embedding\n",
    "# Embedding 层用于创建单词的密集的低维向量表示,可以作为神经网络的输入\n",
    "\n",
    "tf.random.set_seed(123)\n",
    "# 为 TensorFlow 的随机数生成器设置了种子为 123。这确保了任何随机操作,\n",
    "# 如权重初始化或数据洗牌,在不同的运行中都是可重现的"
   ]
  },
  {
   "cell_type": "code",
   "execution_count": 9,
   "metadata": {},
   "outputs": [
    {
     "name": "stderr",
     "output_type": "stream",
     "text": [
      "C:\\Users\\tqin0\\AppData\\Local\\Temp\\ipykernel_16168\\3681788111.py:1: SettingWithCopyWarning: \n",
      "A value is trying to be set on a copy of a slice from a DataFrame.\n",
      "Try using .loc[row_indexer,col_indexer] = value instead\n",
      "\n",
      "See the caveats in the documentation: https://pandas.pydata.org/pandas-docs/stable/user_guide/indexing.html#returning-a-view-versus-a-copy\n",
      "  df['Word'] = df['Word'].str.lower()\n"
     ]
    },
    {
     "data": {
      "text/html": [
       "<div>\n",
       "<style scoped>\n",
       "    .dataframe tbody tr th:only-of-type {\n",
       "        vertical-align: middle;\n",
       "    }\n",
       "\n",
       "    .dataframe tbody tr th {\n",
       "        vertical-align: top;\n",
       "    }\n",
       "\n",
       "    .dataframe thead th {\n",
       "        text-align: right;\n",
       "    }\n",
       "</style>\n",
       "<table border=\"1\" class=\"dataframe\">\n",
       "  <thead>\n",
       "    <tr style=\"text-align: right;\">\n",
       "      <th></th>\n",
       "      <th>Sentence</th>\n",
       "      <th>Word</th>\n",
       "      <th>Tag</th>\n",
       "    </tr>\n",
       "  </thead>\n",
       "  <tbody>\n",
       "    <tr>\n",
       "      <th>0</th>\n",
       "      <td>Sentence: 1</td>\n",
       "      <td>thousands</td>\n",
       "      <td>O</td>\n",
       "    </tr>\n",
       "    <tr>\n",
       "      <th>1</th>\n",
       "      <td>Sentence: 1</td>\n",
       "      <td>of</td>\n",
       "      <td>O</td>\n",
       "    </tr>\n",
       "    <tr>\n",
       "      <th>2</th>\n",
       "      <td>Sentence: 1</td>\n",
       "      <td>demonstrators</td>\n",
       "      <td>O</td>\n",
       "    </tr>\n",
       "    <tr>\n",
       "      <th>3</th>\n",
       "      <td>Sentence: 1</td>\n",
       "      <td>have</td>\n",
       "      <td>O</td>\n",
       "    </tr>\n",
       "    <tr>\n",
       "      <th>4</th>\n",
       "      <td>Sentence: 1</td>\n",
       "      <td>marched</td>\n",
       "      <td>O</td>\n",
       "    </tr>\n",
       "  </tbody>\n",
       "</table>\n",
       "</div>"
      ],
      "text/plain": [
       "      Sentence           Word Tag\n",
       "0  Sentence: 1      thousands   O\n",
       "1  Sentence: 1             of   O\n",
       "2  Sentence: 1  demonstrators   O\n",
       "3  Sentence: 1           have   O\n",
       "4  Sentence: 1        marched   O"
      ]
     },
     "execution_count": 9,
     "metadata": {},
     "output_type": "execute_result"
    }
   ],
   "source": [
    "df['Word'] = df['Word'].str.lower()\n",
    "df.head()"
   ]
  },
  {
   "cell_type": "code",
   "execution_count": 10,
   "metadata": {},
   "outputs": [
    {
     "data": {
      "text/plain": [
       "[[('thousands', 'O'),\n",
       "  ('of', 'O'),\n",
       "  ('demonstrators', 'O'),\n",
       "  ('have', 'O'),\n",
       "  ('marched', 'O'),\n",
       "  ('through', 'O'),\n",
       "  ('london', 'B-geo'),\n",
       "  ('to', 'O'),\n",
       "  ('protest', 'O'),\n",
       "  ('the', 'O'),\n",
       "  ('war', 'O'),\n",
       "  ('in', 'O'),\n",
       "  ('iraq', 'B-geo'),\n",
       "  ('and', 'O'),\n",
       "  ('demand', 'O'),\n",
       "  ('the', 'O'),\n",
       "  ('withdrawal', 'O'),\n",
       "  ('of', 'O'),\n",
       "  ('british', 'B-gpe'),\n",
       "  ('troops', 'O'),\n",
       "  ('from', 'O'),\n",
       "  ('that', 'O'),\n",
       "  ('country', 'O'),\n",
       "  ('.', 'O')],\n",
       " [('iranian', 'B-gpe'),\n",
       "  ('officials', 'O'),\n",
       "  ('say', 'O'),\n",
       "  ('they', 'O'),\n",
       "  ('expect', 'O'),\n",
       "  ('to', 'O'),\n",
       "  ('get', 'O'),\n",
       "  ('access', 'O'),\n",
       "  ('to', 'O'),\n",
       "  ('sealed', 'O'),\n",
       "  ('sensitive', 'O'),\n",
       "  ('parts', 'O'),\n",
       "  ('of', 'O'),\n",
       "  ('the', 'O'),\n",
       "  ('plant', 'O'),\n",
       "  ('wednesday', 'B-tim'),\n",
       "  (',', 'O'),\n",
       "  ('after', 'O'),\n",
       "  ('an', 'O'),\n",
       "  ('iaea', 'B-org'),\n",
       "  ('surveillance', 'O'),\n",
       "  ('system', 'O'),\n",
       "  ('begins', 'O'),\n",
       "  ('functioning', 'O'),\n",
       "  ('.', 'O')]]"
      ]
     },
     "execution_count": 10,
     "metadata": {},
     "output_type": "execute_result"
    }
   ],
   "source": [
    "sentence_all = [(list(zip(group['Word'], group['Tag']))) for _, group in df.groupby('Sentence')]\n",
    "sentence_all[0:2]\n",
    "# sentence_all 变量存储了一个列表,列表中的每个元素都是一个句子中所有单词及其词性标注的列表\n",
    "# 这段代码的作用是将 DataFrame 中的数据转换成一种更加适合后续自然语言处理任务的格式"
   ]
  },
  {
   "cell_type": "code",
   "execution_count": 11,
   "metadata": {},
   "outputs": [
    {
     "name": "stdout",
     "output_type": "stream",
     "text": [
      "WARNING:tensorflow:From C:\\Users\\tqin0\\AppData\\Local\\Temp\\ipykernel_16168\\741403659.py:2: is_gpu_available (from tensorflow.python.framework.test_util) is deprecated and will be removed in a future version.\n",
      "Instructions for updating:\n",
      "Use `tf.config.list_physical_devices('GPU')` instead.\n",
      "% CPU resource is applied.\n"
     ]
    }
   ],
   "source": [
    "# check whether GPU resouce existed\n",
    "if tf.test.is_gpu_available():\n",
    "    BATCH_SIZE = 512\n",
    "    # Number of examples used in each iteration，\n",
    "    # batch size决定了每次参数更新时使用的样本数量，\n",
    "    # 较小的batch size能提供更精确的梯度估计，但需要更多的迭代次数才能收敛；大的batch size则相反\n",
    "\n",
    "    EPOCHS = 5\n",
    "    # Number of passes through entire dataset\n",
    "    # epoch则决定了整个训练数据集被完整训练的次数\n",
    "    # 增加epoch可让神经网络更好的学习数据的特征和规律，但过大的epoch易导致过拟合\n",
    "\n",
    "    MAX_LEN = 75  # Max length of review (in words)\n",
    "    EMBEDDING = 40  # Dimension of word embedding vector\n",
    "    print(\n",
    "        '% GPU resource is applied.'\n",
    "    )\n",
    "# Hyperparams for CPU training\n",
    "else:\n",
    "    BATCH_SIZE = 32\n",
    "    EPOCHS = 5\n",
    "    MAX_LEN = 75\n",
    "    EMBEDDING = 20\n",
    "    print(\n",
    "        '% CPU resource is applied.'\n",
    "    )"
   ]
  },
  {
   "cell_type": "code",
   "execution_count": 12,
   "metadata": {},
   "outputs": [
    {
     "data": {
      "text/plain": [
       "0"
      ]
     },
     "execution_count": 12,
     "metadata": {},
     "output_type": "execute_result"
    }
   ],
   "source": [
    "len(tf.config.list_physical_devices('GPU'))"
   ]
  },
  {
   "cell_type": "code",
   "execution_count": 13,
   "metadata": {},
   "outputs": [
    {
     "name": "stdout",
     "output_type": "stream",
     "text": [
      "words length: 31818\n",
      "tags length: 17\n"
     ]
    }
   ],
   "source": [
    "# remove duplicates\n",
    "words = list(set(df['Word'].values))\n",
    "tags = list(set(df['Tag'].values))\n",
    "\n",
    "print('words length:',len(words))\n",
    "print('tags length:',len(tags))"
   ]
  },
  {
   "cell_type": "code",
   "execution_count": 14,
   "metadata": {},
   "outputs": [],
   "source": [
    "# 这段代码用于创建单词到索引（word to index）和标签到索引（tag to index）的映射关系\n",
    "import sklearn\n",
    "\n",
    "# 单词到索引的映射,('kutuny', 2) | 索引从2开始，索引0、1被保留用作特殊用途\n",
    "# len(word2idx) = 31820\n",
    "word2idx = {w: i + 2 for i, w in enumerate(words)}\n",
    "word2idx[\"UNK\"] = 1 # Unknown words\n",
    "word2idx[\"PAD\"] = 0 # Padding\n",
    "\n",
    "# 索引到单词的映射,(2, 'kutuny')\n",
    "idx2word = {i: w for w, i in word2idx.items()}\n",
    "\n",
    "# 标签到索引的映射，('I-per': 1)\n",
    "# len(tag2idx) = 18\n",
    "tag2idx = {t: i+1 for i, t in enumerate(tags)}\n",
    "tag2idx[\"PAD\"] = 0\n",
    "\n",
    "# 索引到标签的映射，(1: 'I-per')\n",
    "idx2tag = {i: w for w, i in tag2idx.items()}"
   ]
  },
  {
   "cell_type": "code",
   "execution_count": 15,
   "metadata": {},
   "outputs": [],
   "source": [
    "# save pre-trained model to local. Windows: C:\\Users\\<username>\\gensim-data\\word2vec-google-news-300\n",
    "import gensim.downloader as api\n",
    "word2vec = api.load(\"word2vec-google-news-300\") # 模型是固定的300维，不能调整维度\n"
   ]
  },
  {
   "cell_type": "code",
   "execution_count": 16,
   "metadata": {},
   "outputs": [],
   "source": [
    "# load local pre_trained model\n",
    "# import gensim.models\n",
    "# model = gensim.models.KeyedVectors.load('word2vec-google-news-300.model')\n",
    "\n",
    "# print(\"Vocabulary size:\", len(model.wv.key_to_index))\n",
    "# print(\"Vector size:\", model.wv.vector_size)"
   ]
  },
  {
   "cell_type": "code",
   "execution_count": 17,
   "metadata": {},
   "outputs": [
    {
     "name": "stdout",
     "output_type": "stream",
     "text": [
      "Converted 19600 words (12220 misses)\n"
     ]
    }
   ],
   "source": [
    "# 将单词矩阵嵌入（Embedding）成一个词向量矩阵\n",
    "hits = 0\n",
    "misses = 0\n",
    "\n",
    "# word2vec = api.load(\"word2vec-google-news-300\")\n",
    "word2vec\n",
    "\n",
    "embedding_dim = 300\n",
    "# 导入词向量。使用 api.load(\"word2vec-google-news-300\") 导入了一个名为 \"word2vec-google-news-300\" 的\n",
    "# 词向量模型。这个词向量模型可以将单词映射为300维的向量表示。\n",
    "\n",
    "# 创建了一个名为 embedding_matrix 的零矩阵，其大小为 (len(word2idx), embedding_dim)，\n",
    "# 其中 len(word2idx) 表示单词到索引的映射关系中的单词数量，embedding_dim 表示每个单词的\n",
    "# 嵌入维度（这里是300）\n",
    "embedding_matrix = np.zeros((len(word2idx), embedding_dim))\n",
    "\n",
    "# 使用 zip(word2idx.keys(), word2idx.values()) 遍历了单词到索引的映射关系中的每个单词和对应的索引。\n",
    "# 对于每个单词，尝试从导入的词向量模型中获取对应的词向量 embedding_vector = word2vec[word]\n",
    "for word, i in zip(word2idx.keys(),word2idx.values()):\n",
    "    embedding_vector = None\n",
    "    try:\n",
    "      embedding_vector = word2vec[word]\n",
    "    except Exception :\n",
    "      pass\n",
    "\n",
    "    if embedding_vector is not None:\n",
    "        # Words not found in embedding index will be all-zeros.\n",
    "        # This includes the representation for \"padding\" and \"OOV\"\n",
    "        embedding_matrix[i] = embedding_vector\n",
    "        hits += 1\n",
    "    else:\n",
    "        misses += 1\n",
    "# 如果成功获取到了词向量，将其赋值给 embedding_vector，并将其保存在 embedding_matrix 的对应索引位置上。\n",
    "# 如果无法获取词向量（例如，该单词不在词向量模型中），则将 embedding_vector 保持为 None。\n",
    "# 对于获取到词向量的情况，将 hits 计数加一；对于无法获取词向量的情况，将 misses 计数加一。\n",
    "\n",
    "print(\"Converted %d words (%d misses)\" % (hits, misses))"
   ]
  },
  {
   "cell_type": "code",
   "execution_count": 18,
   "metadata": {},
   "outputs": [
    {
     "data": {
      "text/plain": [
       "(31820, 300)"
      ]
     },
     "execution_count": 18,
     "metadata": {},
     "output_type": "execute_result"
    }
   ],
   "source": [
    "embedding_matrix.shape"
   ]
  },
  {
   "cell_type": "code",
   "execution_count": 19,
   "metadata": {},
   "outputs": [
    {
     "name": "stdout",
     "output_type": "stream",
     "text": [
      "Raw Sample:\n",
      "  iranian officials say they expect to get access to sealed sensitive parts of the plant wednesday , after an iaea surveillance system begins functioning .\n",
      "\n",
      " \n",
      "Raw Label:\n",
      "  B-gpe O O O O O O O O O O O O O O B-tim O O O B-org O O O O O\n",
      "\n",
      " \n",
      "After processing, sample:\n",
      " [ 4229 19496  2830 18605 29047 25140 26699 27861 31197 23887  3447  5566\n",
      "  2696 11479 29773 23887 25671 19496 27809 13754 24631 30242 28913 16378\n",
      "     0     0     0     0     0     0     0     0     0     0     0     0\n",
      "     0     0     0     0     0     0     0     0     0     0     0     0\n",
      "     0     0     0     0     0     0     0     0     0     0     0     0\n",
      "     0     0     0     0     0     0     0     0     0     0     0     0\n",
      "     0     0     0]\n",
      "\n",
      " \n",
      "After processing, labels:\n",
      " [[0. 0. 0. ... 0. 0. 0.]\n",
      " [0. 0. 0. ... 0. 0. 0.]\n",
      " [0. 0. 0. ... 0. 0. 0.]\n",
      " ...\n",
      " [1. 0. 0. ... 0. 0. 0.]\n",
      " [1. 0. 0. ... 0. 0. 0.]\n",
      " [1. 0. 0. ... 0. 0. 0.]]\n"
     ]
    }
   ],
   "source": [
    "# 这段代码的作用是将词语和标签转换为索引，并对句子进行填充，\n",
    "# 以便在进行模型训练和预测之前，将它们转换为适合输入神经网络的格式。\n",
    "\n",
    "# 代码导入了 pad_sequences 函数，该函数用于对序列进行填充以保证它们具有相同的长度\n",
    "from keras_preprocessing.sequence import pad_sequences\n",
    "\n",
    "# Convert each sentence from list of Token to list of word_index\n",
    "# (将句子转化为索引序列) 创建了一个名为 X 的列表，其中包含了将每个句子中的单词转换为对应索引的序列。\n",
    "# 对于每个句子 s，使用列表推导式将句子中的每个单词 w[0] 转换为对应的索引 word2idx[w[0]]，\n",
    "# 并将其添加到 X 中\n",
    "X = [[word2idx[w[0]] for w in s] for s in sentence_all]\n",
    "\n",
    "# Padding each sentence to have the same lenght\n",
    "# (对句子进行填充)\n",
    "# 使用 pad_sequences 函数对句子进行填充，确保它们具有相同的长度。\n",
    "# maxlen 参数指定了填充后的句子长度。\n",
    "# sequences 参数传入了待填充的序列列表 X。\n",
    "# padding 参数设置为 \"post\"，表示在序列末尾进行填充。\n",
    "# value 参数传入了填充使用的值，这里使用了索引为 \"PAD\" 的特殊值。\n",
    "X = pad_sequences(maxlen=MAX_LEN, sequences=X, padding=\"post\", value=word2idx[\"PAD\"])\n",
    "\n",
    "# Convert Tag/Label to tag_index（将标签转化为索引序列）\n",
    "y = [[tag2idx[w[1]] for w in s] for s in sentence_all]\n",
    "\n",
    "# Padding each sentence to have the same lenght（对标签进行填充）\n",
    "y = pad_sequences(maxlen=75, sequences=y, padding=\"post\", value=tag2idx[\"PAD\"])\n",
    "\n",
    "# 对于列表 y 中的每个序列 i，使用 to_categorical 函数将其转换为一个独热编码的序列，\n",
    "# 其中类别数量为 len(tags)+1，加一是因为还有一个特殊的 \"PAD\" 类别\n",
    "from keras.utils import to_categorical\n",
    "# One-Hot encode\n",
    "y = [to_categorical(i, num_classes=len(tags)+1) for i in y]  # n_tags+1(PAD)\n",
    "\n",
    "\n",
    "from sklearn.model_selection import train_test_split\n",
    "X_tr, X_te, y_tr, y_te = train_test_split(X, y, test_size=0.1)\n",
    "X_tr.shape, X_te.shape, np.array(y_tr).shape, np.array(y_te).shape\n",
    "\n",
    "# 打印原始样本中的单词序列和标签序列\n",
    "print('Raw Sample:\\n ', ' '.join([w[0] for w in sentence_all[1]]))\n",
    "print('\\n ' )\n",
    "print('Raw Label:\\n ', ' '.join([w[1] for w in sentence_all[1]]))\n",
    "print('\\n ' )\n",
    "\n",
    "# 打印经过处理后的样本和标签所以序列\n",
    "print('After processing, sample:\\n', X[0])\n",
    "print('\\n ' )\n",
    "print('After processing, labels:\\n', y[0])\n",
    "\n",
    "# 这段代码的目的是将原始的文本数据转换为可以用于训练和测试神经网络的格式。\n",
    "# 通过将文本转换为索引序列，并对序列进行填充和独热编码处理，为后续的序列标注任务（如命名实体识别）\n",
    "# 提供了适当的输入和标签数据。打印结果部分展示了数据处理前后的对比，以便查看转换的效果。"
   ]
  },
  {
   "cell_type": "code",
   "execution_count": 20,
   "metadata": {},
   "outputs": [
    {
     "data": {
      "text/plain": [
       "18"
      ]
     },
     "execution_count": 20,
     "metadata": {},
     "output_type": "execute_result"
    }
   ],
   "source": [
    "len(y[0][0])"
   ]
  },
  {
   "cell_type": "code",
   "execution_count": 21,
   "metadata": {},
   "outputs": [
    {
     "data": {
      "text/plain": [
       "array([[ 4229, 19496,  2830, 18605, 29047, 25140, 26699, 27861, 31197,\n",
       "        23887,  3447,  5566,  2696, 11479, 29773, 23887, 25671, 19496,\n",
       "        27809, 13754, 24631, 30242, 28913, 16378,     0,     0,     0,\n",
       "            0,     0,     0,     0,     0,     0,     0,     0,     0,\n",
       "            0,     0,     0,     0,     0,     0,     0,     0,     0,\n",
       "            0,     0,     0,     0,     0,     0,     0,     0,     0,\n",
       "            0,     0,     0,     0,     0,     0,     0,     0,     0,\n",
       "            0,     0,     0,     0,     0,     0,     0,     0,     0,\n",
       "            0,     0,     0],\n",
       "       [  711, 20322, 20016, 24021, 29304, 27861, 19182, 17083, 27861,\n",
       "         6424, 27258, 28356, 19496, 23887, 16258,  1833, 16281, 11698,\n",
       "        17057, 20319,  2247,  6312, 21805,  2030, 16378,     0,     0,\n",
       "            0,     0,     0,     0,     0,     0,     0,     0,     0,\n",
       "            0,     0,     0,     0,     0,     0,     0,     0,     0,\n",
       "            0,     0,     0,     0,     0,     0,     0,     0,     0,\n",
       "            0,     0,     0,     0,     0,     0,     0,     0,     0,\n",
       "            0,     0,     0,     0,     0,     0,     0,     0,     0,\n",
       "            0,     0,     0]])"
      ]
     },
     "execution_count": 21,
     "metadata": {},
     "output_type": "execute_result"
    }
   ],
   "source": [
    "X[0:2]"
   ]
  },
  {
   "cell_type": "code",
   "execution_count": 22,
   "metadata": {},
   "outputs": [
    {
     "data": {
      "text/plain": [
       "[array([[0., 0., 0., ..., 0., 0., 0.],\n",
       "        [0., 0., 0., ..., 0., 0., 0.],\n",
       "        [0., 0., 0., ..., 0., 0., 0.],\n",
       "        ...,\n",
       "        [1., 0., 0., ..., 0., 0., 0.],\n",
       "        [1., 0., 0., ..., 0., 0., 0.],\n",
       "        [1., 0., 0., ..., 0., 0., 0.]], dtype=float32),\n",
       " array([[0., 0., 0., ..., 0., 0., 0.],\n",
       "        [0., 0., 0., ..., 0., 0., 0.],\n",
       "        [0., 0., 0., ..., 0., 0., 0.],\n",
       "        ...,\n",
       "        [1., 0., 0., ..., 0., 0., 0.],\n",
       "        [1., 0., 0., ..., 0., 0., 0.],\n",
       "        [1., 0., 0., ..., 0., 0., 0.]], dtype=float32)]"
      ]
     },
     "execution_count": 22,
     "metadata": {},
     "output_type": "execute_result"
    }
   ],
   "source": [
    "y[0:2]"
   ]
  },
  {
   "cell_type": "markdown",
   "metadata": {},
   "source": [
    "上述代码中，为什么要填充句子让他们有相同的长度？另外，为什么要对标签做独热编码？（填充句子和进行独热编码是为了满足神经网络的输入要求和处理离散标签的需要，以便更好地进行模型训练和预测）\n",
    "\n",
    "填充序列的主要原因有以下几点：\n",
    "\n",
    "1）神经网络的输入要求固定长度：神经网络通常要求输入具有相同的长度，这是因为网络的权重参数是根据输入形状确定的。为了将不同长度的序列作为输入，需要将它们填充到相同的长度，以便能够以矩阵形式传递给神经网络。\n",
    "2）批量处理提高效率：在进行训练或预测时，通常会使用批量处理（batch processing）的方式，即一次传递多个样本给神经网络进行计算。为了能够同时处理多个样本，需要确保它们具有相同的长度。\n",
    "3）数据对齐：在序列标注任务中，通常会将输入句子中的每个单词与其对应的标签进行配对。为了保持标签与输入句子中的单词对齐，需要对标签序列进行相同的填充操作。\n",
    "\n",
    "独热编码的主要原因有以下几点：\n",
    "1）数值化标签：神经网络通常需要将标签以数值形式表示，以便进行损失函数的计算和梯度更新。独热编码可以将离散标签映射为向量形式，每个标签对应一个唯一的向量。\n",
    "2）增加模型表达能力：独热编码可以为每个标签创建一个独立的维度，使得模型能够对不同的标签进行区分和学习。每个标签的独热编码向量中只有一个元素为1，其余元素为0，这样可以为模型提供更多的信息。\n",
    "3）多分类问题处理：在序列标注任务中，通常存在多个不同的标签类别。对标签进行独热编码可以将多分类问题转化为一个向量预测问题，使得模型能够更好地适应多个类别的预测。"
   ]
  },
  {
   "cell_type": "code",
   "execution_count": 23,
   "metadata": {},
   "outputs": [
    {
     "data": {
      "text/plain": [
       "31820"
      ]
     },
     "execution_count": 23,
     "metadata": {},
     "output_type": "execute_result"
    }
   ],
   "source": [
    "len(word2idx)"
   ]
  },
  {
   "cell_type": "code",
   "execution_count": 24,
   "metadata": {},
   "outputs": [
    {
     "data": {
      "text/plain": [
       "18"
      ]
     },
     "execution_count": 24,
     "metadata": {},
     "output_type": "execute_result"
    }
   ],
   "source": [
    "len(tag2idx)"
   ]
  },
  {
   "cell_type": "code",
   "execution_count": 25,
   "metadata": {},
   "outputs": [
    {
     "data": {
      "text/plain": [
       "((43163, 75), (4796, 75), (43163, 75, 18), (4796, 75, 18))"
      ]
     },
     "execution_count": 25,
     "metadata": {},
     "output_type": "execute_result"
    }
   ],
   "source": [
    "X_tr.shape, X_te.shape, np.array(y_tr).shape, np.array(y_te).shape"
   ]
  },
  {
   "cell_type": "code",
   "execution_count": 26,
   "metadata": {},
   "outputs": [],
   "source": [
    "# 列表转数组\n",
    "y_tr = np.array(y_tr)\n",
    "y_te = np.array(y_te)"
   ]
  },
  {
   "cell_type": "markdown",
   "metadata": {},
   "source": [
    "这段代码实现了一个用于命名实体识别（Named Entity Recognition）的模型，使用了深度学习框架 TensorFlow 和 TensorFlow Addons。\n",
    "\n",
    "代码的主要功能如下：\n",
    "\n",
    "导入所需的模块和库：从 TensorFlow 和 TensorFlow Addons 中导入所需的模块和函数，包括模型类（Model）、各种层（Input、LSTM、Embedding、Dense、TimeDistributed、Dropout、Bidirectional）、CRF（条件随机场）层，以及优化器（AdamW）和损失函数（SigmoidFocalCrossEntropy）等。\n",
    "\n",
    "定义模型函数 build_model：这个函数用于构建模型的结构。它接受一些参数，如最大序列长度 max_len、输入维度 input_dim（即单词索引的长度），以及嵌入维度 embedding_dim。在函数内部，首先创建一个输入层 Input，然后创建一个嵌入层 Embedding，将输入序列映射为稠密向量表示。接下来，通过堆叠多个双向 LSTM 层，对嵌入层的输出进行处理。之后，添加额外的非线性层和时间分布层，以增加模型的表达能力。最后，使用 CRF 层对输出进行标记和解码。在模型的编译过程中，使用了 AdamW 优化器和 Sigmoid Focal Cross Entropy 损失函数。\n",
    "\n",
    "构建模型：调用 build_model 函数创建一个模型实例，并将其赋值给变量 model。\n",
    "\n",
    "设置回调函数：创建了两个回调函数，用于在训练过程中进行模型保存和提前停止训练。ModelCheckpoint 回调函数用于保存在验证集上表现最好的模型权重，并指定了保存的文件路径、监控的指标、是否只保存权重、以及是否只保存最好的模型等参数。EarlyStopping 回调函数用于在验证集上的损失没有改善时提前停止训练，指定了监控的指标、是否打印提前停止信息、以及容忍的停止次数等参数。这些回调函数将在训练过程中起到监控和控制模型训练的作用。\n",
    "\n",
    "打印模型概览：使用 model.summary() 打印模型的概览信息，包括每一层的名称、输出形状和参数数量等。\n",
    "\n",
    "综上所述，这段代码实现了一个命名实体识别模型，并提供了模型构建、训练过程中的模型保存和提前停止的功能。"
   ]
  },
  {
   "cell_type": "code",
   "execution_count": 27,
   "metadata": {},
   "outputs": [
    {
     "name": "stderr",
     "output_type": "stream",
     "text": [
      "c:\\Users\\tqin0\\AppData\\Local\\Programs\\Python\\Python310\\lib\\site-packages\\tensorflow_addons\\utils\\tfa_eol_msg.py:23: UserWarning: \n",
      "\n",
      "TensorFlow Addons (TFA) has ended development and introduction of new features.\n",
      "TFA has entered a minimal maintenance and release mode until a planned end of life in May 2024.\n",
      "Please modify downstream libraries to take dependencies from other repositories in our TensorFlow community (e.g. Keras, Keras-CV, and Keras-NLP). \n",
      "\n",
      "For more information see: https://github.com/tensorflow/addons/issues/2807 \n",
      "\n",
      "  warnings.warn(\n",
      "c:\\Users\\tqin0\\AppData\\Local\\Programs\\Python\\Python310\\lib\\site-packages\\tensorflow_addons\\utils\\ensure_tf_install.py:53: UserWarning: Tensorflow Addons supports using Python ops for all Tensorflow versions above or equal to 2.12.0 and strictly below 2.15.0 (nightly versions are not supported). \n",
      " The versions of TensorFlow you are currently using is 2.15.0 and is not supported. \n",
      "Some things might work, some things might not.\n",
      "If you were to encounter a bug, do not file an issue.\n",
      "If you want to make sure you're using a tested and supported configuration, either change the TensorFlow version or the TensorFlow Addons's version. \n",
      "You can find the compatibility matrix in TensorFlow Addon's readme:\n",
      "https://github.com/tensorflow/addons\n",
      "  warnings.warn(\n"
     ]
    }
   ],
   "source": [
    "from tensorflow.keras.models import Model\n",
    "# 用于构建神经网络模型的类。它允许定义输入和输出，并将各个层组合在一起形成一个完整的模型\n",
    "\n",
    "from tensorflow.keras.layers import Input, LSTM, Embedding, Dense, TimeDistributed, Dropout, Bidirectional\n",
    "# Input: 用于创建模型的输入层。它指定了输入数据的形状和数据类型。\n",
    "# LSTM: 长短期记忆（Long Short-Term Memory，LSTM）层。它是一种循环神经网络（Recurrent Neural Network，RNN）的变体，用于处理序列数据。\n",
    "# Embedding: 嵌入层，将离散的词或符号转换为密集的向量表示。它可以将高维的离散特征映射到低维的连续向量空间中，其中相似的词在向量空间中距离较近。\n",
    "# Dense: 全连接层，也称为密集层。它将输入的每个神经元与输出的每个神经元都连接起来，所有的连接都有权重。\n",
    "# TimeDistributed: 将一个层应用于序列中的每个时间步。它允许在时间维度上独立地处理序列中的每个元素。\n",
    "# Dropout: 用于在训练过程中随机将输入张量的一部分元素设置为零，以减少过拟合。\n",
    "# Bidirectional 是一个用于创建双向循环神经网络（Bidirectional Recurrent Neural Network，Bi-RNN）的包装器。\n",
    "# 它将一个循环神经网络层包装在其中，同时在时间维度上以正向和反向两个方向传播信息。\n",
    "\n",
    "from tensorflow_addons.utils.types import FloatTensorLike, TensorLike\n",
    "# 导入了两个类型的定义，用于注释函数参数的类型。\n",
    "# FloatTensorLike 表示可以接受浮点张量或具有相同形状和数据类型的 Python 数字或 NumPy 数组作为参数，\n",
    "# TensorLike 表示可以接受张量或具有相同形状和数据类型的 Python 数字或 NumPy 数组作为参数。\n",
    "\n",
    "from tensorflow_addons.layers import CRF\n",
    "# CRF: 条件随机场（Conditional Random Field，CRF）层。它是一种用于序列标注任务的概率图模型，可以对输入序列中的每个位置进行标注。\n",
    "\n",
    "from tensorflow_addons.losses import SigmoidFocalCrossEntropy\n",
    "# Sigmoid Focal Cross Entropy 损失函数。它是一种用于二分类问题的损失函数，可以放大难分类样本的损失。\n",
    "\n",
    "from tensorflow_addons.optimizers import AdamW\n",
    "# AdamW 优化器。它是 Adam 优化器的一种变体，通过添加权重衰减（weight decay）来进行正则化。\n"
   ]
  },
  {
   "cell_type": "code",
   "execution_count": 28,
   "metadata": {},
   "outputs": [],
   "source": [
    "# 构建模型的类\n",
    "def build_model(max_len = 75, input_dim = len(word2idx),embedding_dim = 300):\n",
    "  # Model definition\n",
    "  input = Input(shape=(max_len,))\n",
    "\n",
    "  # Get embeddings\n",
    "  embeddings = Embedding(\n",
    "      input_dim,\n",
    "      embedding_dim,\n",
    "      weights=[embedding_matrix],\n",
    "      input_length=max_len,\n",
    "      mask_zero=True,\n",
    "      trainable=True,\n",
    "      name = 'embedding_layer'\n",
    "  )(input)\n",
    "  # 嵌入层的 trainable=True 表示嵌入层的权重在训练过程中是可训练的。如果设置为 False，\n",
    "  # 则不会更新嵌入层的权重，使用预训练的嵌入矩阵进行固定的特征提取。\n",
    "\n",
    "  # variational biLSTM\n",
    "  output_sequences = Bidirectional(LSTM(units=50, return_sequences=True))(embeddings)\n",
    "  # output_sequences = Bidirectional(LSTM(units=100, return_sequences=True))(output_sequences)\n",
    "  # Stacking\n",
    "  # output_sequences = Bidirectional(LSTM(units=50, return_sequences=True))(output_sequences)\n",
    "  # 多个双向 LSTM 层用于增加模型的表示能力和记忆能力。通过堆叠多个 LSTM 层，模型可以更好地捕捉输入序列中的长期依赖关系。\n",
    "  # 每个 LSTM 层的 units 数值代表该层中 LSTM 单元（神经元）的数量。更多的单元意味着模型可以学习更丰富的特征表示，但也会增加模型的复杂性和计算成本。\n",
    "  # Adding more non-linearity\n",
    "  dense_out = TimeDistributed(Dense(25, activation=\"relu\"))(output_sequences)\n",
    "  # 每个输出序列的时间步是指序列数据中的每个时间点或步骤。在序列数据中，每个时间步都对应着序列中的一个位置。\n",
    "  # Dense 层是全连接层，它将输入的每个神经元与输出的每个神经元都连接起来，所有的连接都有权重。\n",
    "  # Dense 层可以通过学习适当的权重和偏置来实现从输入到输出的非线性映射。\n",
    "  # 将 Dense 层应用于每个时间步的输出序列，可以在时间维度上独立地对序列中的每个元素进行处理。这样做可以为每个时间步生成相应的特征表示。\n",
    "  # ReLU（Rectified Linear Unit）是一种激活函数，它将负输入值设为零，并保持正输入值不变。它的公式为 f(x) = max(0, x)。\n",
    "  # ReLU 激活函数常用于神经网络的隐藏层，因为它可以引入非线性，并且在训练过程中有较好的梯度传播性质。\n",
    "\n",
    "  # CRF layer\n",
    "  mask = Input(shape=(max_len,), dtype=tf.bool)\n",
    "  crf = CRF(18, name='crf')\n",
    "  predicted_sequence, potentials, sequence_length, crf_kernel = crf(dense_out)\n",
    "  # CRF 层应用于输出序列的 Dense 层之后，用于对输出序列进行标注。CRF 是一种概率图模型，\n",
    "  # 可以考虑序列中标签之间的关系，通过全局推断来进行标注，从而提高输出的准确性。\n",
    "  # mask: 序列的掩码是一个与输入序列形状相同的二进制张量，用于指示输入序列中哪些位置是真实的数据，\n",
    "  # 哪些位置是填充的无效数据。通过使用掩码，模型可以忽略填充位置的影响，只关注真实数据的处理。\n",
    "  # predicted_sequence: 输出预测的序列是模型在序列标注任务中预测的标签序列。\n",
    "  # potentials: 势能是 CRF 层输出的一个张量，表示不同标签之间的转移得分。\n",
    "  # sequence_length: 序列长度是输入序列的时间步数量。\n",
    "  # crf_kernel: CRF 核是用于计算 CRF 层的损失和梯度的核函数。\n",
    "  # 在 CRF 模型中,每一个状态代表一个标签或类别,这里指定了模型有 18 个可能的标签\n",
    "\n",
    "  model = Model(input, potentials)\n",
    "  # CRF 层的势能(potentials)作为模型输出是因为 CRF 层需要使用势能来计算损失和推断预测标签序列。\n",
    "  # 势能包含了标签之间的转移得分，通过最大化势能来找到最优的标签序列。\n",
    "\n",
    "  model.compile(\n",
    "      # optimizer=AdamW(weight_decay=0.001),\n",
    "      optimizer=AdamW(weight_decay=0.1),\n",
    "      loss= SigmoidFocalCrossEntropy()) # Sigmoid focal cross entropy loss\n",
    "  # AdamW 优化器是 Adam 优化器的一种变体，通过添加权重衰减（weight decay）来进行正则化。它可以在更新权重时减小权重的大小，以防止过拟合。\n",
    "  # Sigmoid Focal Cross Entropy 损失函数是用于二分类问题的一种损失函数。\n",
    "  # 它在处理类别不平衡的情况下效果较好，通过放大难分类样本的损失来提高模型对难分类样本的关注度。\n",
    "\n",
    "  # 除了 AdamW 和 Sigmoid Focal Cross Entropy，还有其他许多优化器和损失函数可供选择，如：\n",
    "  # 优化器：SGD、RMSprop、Adagrad、Adadelta、Adamax 等。\n",
    "  # 损失函数：均方误差（Mean Squared Error）、交叉熵（Cross Entropy）、Kullback-Leibler 散度（Kullback-Leibler Divergence）、\n",
    "  # Hinge 损失等，具体选择取决于任务的性质和模型的需求。\n",
    "\n",
    "  return model"
   ]
  },
  {
   "cell_type": "markdown",
   "metadata": {},
   "source": [
    "基于BiLSTM+CRF的命名实体识别框架中,使用多层LSTM层确实可以带来一些好处,主要包括:\n",
    "\n",
    "更强的特征表示能力:\n",
    "\n",
    "多层LSTM可以学习到更丰富的特征表示,从而捕获更复杂的文本语义信息。浅层LSTM主要关注局部特征,而深层LSTM能够学习到更高层次的特征。\n",
    "这有利于提高模型对实体边界和类型的识别能力。\n",
    "更强的建模能力:\n",
    "\n",
    "多层LSTM可以增强模型的建模能力,从而更好地捕获文本序列中的上下文依赖关系。\n",
    "这对于识别跨词边界的实体很有帮助,因为实体边界往往需要依赖更广泛的上下文信息。\n",
    "更强的泛化能力:\n",
    "\n",
    "多层LSTM可以提高模型的学习能力和泛化性能,从而更好地应对数据分布的复杂性和噪音。\n",
    "这在面对多样化的实体类型和文本场景时,可以提升模型的稳定性和鲁棒性。\n",
    "当然,使用多层LSTM也会带来一定的训练复杂度和计算开销增加。所以在实际应用中,需要权衡模型复杂度、训练效率以及最终识别性能之间的平衡。一般来说,3-4层的LSTM结构是比较常见的选择。\n",
    "\n",
    "总之,基于BiLSTM+CRF的NER框架中使用多层LSTM可以提高模型的特征表示能力、建模能力和泛化能力,从而提升命名实体识别的整体性能。但具体应该使用多少层LSTM需要根据具体任务需求和数据特点进行实验和调优。\n",
    "\n",
    "------------------\n",
    "\n",
    "在使用多层LSTM进行命名实体识别任务时,每一层LSTM的units(隐藏层神经元个数)的设置确实需要一些考虑。通常来说,有以下几点要求和建议:\n",
    "\n",
    "1. 逐层缩小units的数量:\n",
    "   - 通常建议从浅层到深层,LSTM的units数量呈逐层递减的趋势。\n",
    "   - 这样可以避免参数过多导致过拟合,同时保持足够的表达能力。一个常见的设置是第一层LSTM 256个units,第二层128个units,第三层64个units等。\n",
    "\n",
    "2. 保持一定的units数量:\n",
    "   - 每层LSTM的units数量不应过少,否则可能无法捕获足够的特征信息。\n",
    "   - 一般建议每层LSTM的units数量不低于50-100个。过小的units数量可能会限制模型的拟合能力。\n",
    "\n",
    "3. 根据任务复杂度适当调整:\n",
    "   - 如果面临的命名实体识别任务较为复杂,例如实体类型较多,句子结构复杂等,可以适当增加LSTM层的units数量。\n",
    "   - 这样可以提升模型的学习能力,学习到更丰富的特征表示。但同时也要注意防止过拟合。\n",
    "\n",
    "4. 结合其他超参数调整:\n",
    "   - LSTM units的设置不能独立于其他超参数,如dropout率、学习率等。需要结合这些参数进行整体优化。\n",
    "   - 例如,如果units过大可能会导致过拟合,这时可以适当增加dropout率来缓解这一问题。\n",
    "\n",
    "总之,多层LSTM的units设置需要在模型复杂度、过拟合风险、计算开销等因素之间进行权衡。可以通过实验尝试不同的设置,找到最合适的units配置。同时要结合任务需求和数据特点来进行调整。\n",
    "\n",
    "--------------------------\n",
    "\n",
    "dense_out = TimeDistributed(Dense(25, activation=\"relu\"))(output_sequences) 这个是全连接层\n",
    "\n",
    "在使用多层LSTM进行命名实体识别任务时,在LSTM层之后通常会接一个全连接层,用于将LSTM输出的特征映射到实体标签上。\n",
    "\n",
    "这里的TimeDistributed(Dense(25, activation=\"relu\"))就是一个这样的全连接层操作。它的作用是:\n",
    "\n",
    "TimeDistributed是一个 Keras 层,它可以将一个2D层(如全连接层)应用到输入序列的每一个时间步上。这样可以确保输出的形状与输入序列的形状一致。\n",
    "\n",
    "Dense(25, activation=\"relu\")是一个标准的全连接层,将LSTM输出的特征映射到25个输出单元上,并使用ReLU激活函数。\n",
    "\n",
    "这个全连接层的作用是将LSTM学习到的特征进一步变换,以适配命名实体识别任务的输出,即识别每个词是否是实体,以及实体的类型。\n",
    "\n",
    "-------------------------\n",
    "\n",
    "`model.compile()` 是机器学习模型在训练之前需要进行的一个重要步骤。它的主要作用是:\n",
    "\n",
    "1. 指定模型的优化算法(optimizer)和损失函数(loss function)。\n",
    "   - 优化算法决定模型如何更新参数以最小化损失函数。常见的优化算法有 SGD、Adam 等。\n",
    "   - 损失函数定义了模型输出与真实标签之间的差异,模型会努力最小化这个差异。常见的损失函数有均方误差(MSE)、交叉熵(Cross Entropy)等。\n",
    "\n",
    "2. 指定评估指标(metrics)。\n",
    "   - 评估指标用于监控模型在训练和验证过程中的性能,如精度(accuracy)、F1-score等。\n",
    "\n",
    "3. 配置其他训练参数。\n",
    "   - 比如是否使用梯度裁剪(gradient clipping)、学习率衰减策略等。\n",
    "\n",
    "总的来说,`model.compile()` 是将模型架构、优化算法、损失函数等关键组件整合在一起,为后续的训练做好准备。它是训练机器学习模型的重要一步。"
   ]
  },
  {
   "cell_type": "code",
   "execution_count": 29,
   "metadata": {},
   "outputs": [
    {
     "name": "stdout",
     "output_type": "stream",
     "text": [
      "WARNING:tensorflow:From c:\\Users\\tqin0\\AppData\\Local\\Programs\\Python\\Python310\\lib\\site-packages\\keras\\src\\backend.py:1398: The name tf.executing_eagerly_outside_functions is deprecated. Please use tf.compat.v1.executing_eagerly_outside_functions instead.\n",
      "\n",
      "Model: \"model\"\n",
      "_________________________________________________________________\n",
      " Layer (type)                Output Shape              Param #   \n",
      "=================================================================\n",
      " input_1 (InputLayer)        [(None, 75)]              0         \n",
      "                                                                 \n",
      " embedding_layer (Embedding  (None, 75, 300)           9546000   \n",
      " )                                                               \n",
      "                                                                 \n",
      " bidirectional (Bidirection  (None, 75, 100)           140400    \n",
      " al)                                                             \n",
      "                                                                 \n",
      " time_distributed (TimeDist  (None, 75, 25)            2525      \n",
      " ributed)                                                        \n",
      "                                                                 \n",
      " crf (CRF)                   [(None, 75),              828       \n",
      "                              (None, 75, 18),                    \n",
      "                              (None,),                           \n",
      "                              (18, 18)]                          \n",
      "                                                                 \n",
      "=================================================================\n",
      "Total params: 9689753 (36.96 MB)\n",
      "Trainable params: 9689753 (36.96 MB)\n",
      "Non-trainable params: 0 (0.00 Byte)\n",
      "_________________________________________________________________\n"
     ]
    }
   ],
   "source": [
    "model = build_model()\n",
    "\n",
    "# Checkpointing，创建了一个保存模型检查点的回调对象。\n",
    "save_model = tf.keras.callbacks.ModelCheckpoint(filepath='ner_crf.h5',\n",
    "  monitor='val_loss',\n",
    "  save_weights_only=True,\n",
    "  save_best_only=True,\n",
    "  verbose=1\n",
    ")\n",
    "# ModelCheckpoint 是一个回调函数，用于在训练过程中保存模型的检查点。\n",
    "# 在给定的文件路径上保存模型的权重，可以选择只保存最佳的模型权重（根据验证集上的损失或指定的监控指标）。\n",
    "# filepath：参数指定保存模型权重的文件路径。文件后缀 .h5 表示模型权重文件采用了 HDF5（Hierarchical Data Format 5）格式。\n",
    "# HDF5 是一种用于存储和组织大量数据的文件格式，它可以有效地存储多种类型的数据和复杂的数据结构，适合用于存储神经网络模型的权重参数。\n",
    "\n",
    "# monitor：参数指定要监控的指标，如验证集上的损失（val_loss）。\n",
    "# save_weights_only：参数指定是否仅保存模型的权重而不保存整个模型。\n",
    "# save_best_only：参数指定是否只保存在监控指标上获得最佳性能的模型权重。\n",
    "# verbose：参数指定是否输出保存模型的日志信息。\n",
    "\n",
    "# 保留模型（Save Model）通常指将整个模型的结构、权重和配置保存为一个文件，包括模型的架构、层的参数、优化器的状态等信息。\n",
    "# 这样可以完整地保存模型的所有内容，包括模型的结构和参数，以便在需要时可以加载整个模型进行预测或继续训练。\n",
    "# 保留模型的权重（Save Model Weights）仅保存模型的权重参数，而不包括模型的结构和配置信息。\n",
    "# 这种方式适用于在已经有模型的结构定义的情况下，只需要保存和加载模型的权重，而不需要再保存和加载整个模型的结构。\n",
    "\n",
    "# verbose=1 表示在模型训练过程中输出详细的日志信息。在这个上下文中，当设置 verbose=1 时，保存模型或进行提前停止时会输出相应的日志信息，\n",
    "# 以便在训练过程中了解保存模型的进展或提前停止的原因。可以将 verbose 的值设置为 0、1 或 2，分别表示不输出日志、输出进度条和输出每个周期一行的日志。\n",
    "\n",
    "\n",
    "\n",
    "# Early stopping，创建一个提前停止的回调对象\n",
    "es = tf.keras.callbacks.EarlyStopping(monitor='val_loss', verbose=1, patience=10)\n",
    "# EarlyStopping 是一个回调函数，用于在训练过程中实现提前停止。它监控指定的指标，并在连续几个训练轮次内指标没有改善时停止训练。\n",
    "# monitor 参数指定要监控的指标，如验证集上的损失（val_loss）。\n",
    "# patience 参数指定在指标没有改善的情况下等待的训练轮次数。\n",
    "# verbose 参数指定是否输出提前停止的日志信息。\n",
    "\n",
    "\n",
    "callbacks = [save_model, es]\n",
    "# 将这两个回调对象存储在列表 callbacks 中，以便在训练模型时使用这些回调函数。\n",
    "\n",
    "\n",
    "model.summary()"
   ]
  },
  {
   "cell_type": "markdown",
   "metadata": {},
   "source": [
    "\n",
    "> {模型信息解读}\n",
    "\n",
    "\n",
    "\n",
    "Model: \"model\"：模型的名称为 \"model\"。\n",
    "\n",
    "Layer (type)：层的类型。\n",
    "\n",
    "Output Shape：输出形状。\n",
    "\n",
    "Param #：层的参数数量。\n",
    "\n",
    "input_1 (InputLayer)：输入层的名称为 \"input_1\"，类型为 InputLayer。\n",
    "\n",
    "[(None, 75)]：输入层的输出形状为 (None, 75)，其中 None 表示批量大小可变，75 表示每个输入序列的长度。\n",
    "\n",
    "embedding_layer (Embedding)：嵌入层的名称为 \"embedding_layer\"，类型为 Embedding。\n",
    "\n",
    "(None, 75, 300)：嵌入层的输出形状为 (None, 75, 300)，其中 None 表示批量大小可变，75 表示每个输入序列的长度，300 表示嵌入向量的维度。\n",
    "\n",
    "bidirectional (Bidirectional)：双向循环层的名称为 \"bidirectional\"，类型为 Bidirectional。\n",
    "\n",
    "(None, 75, 100)：双向循环层的输出形状为 (None, 75, 100)，其中 None 表示批量大小可变，75 表示每个输入序列的长度，100 表示每个时间步的隐藏状态维度。\n",
    "\n",
    "bidirectional_1 (Bidirectional)：双向循环层的名称为 \"bidirectional_1\"，类型为 Bidirectional。\n",
    "\n",
    "(None, 75, 200)：双向循环层的输出形状为 (None, 75, 200)，其中 None 表示批量大小可变，75 表示每个输入序列的长度，200 表示每个时间步的隐藏状态维度。\n",
    "\n",
    "bidirectional_2 (Bidirectional)：双向循环层的名称为 \"bidirectional_2\"，类型为 Bidirectional。\n",
    "\n",
    "(None, 75, 100)：双向循环层的输出形状为 (None, 75, 100)，其中 None 表示批量大小可变，75 表示每个输入序列的长度，100 表示每个时间步的隐藏状态维度。\n",
    "\n",
    "time_distributed (TimeDistributed)：时间分布层的名称为 \"time_distributed\"，类型为 TimeDistributed。\n",
    "\n",
    "(None, 75, 25)：时间分布层的输出形状为 (None, 75, 25)，其中 None 表示批量大小可变，75 表示每个输入序列的长度，25 表示每个时间步的输出维度。\n",
    "\n",
    "crf (CRF)：条件随机场层的名称为 \"crf\"，类型为 CRF。\n",
    "\n",
    "[(None, 75), (None, 75, 18), (None,), (18, 18)]：条件随机场层的输出形状包括了四个部分，分别是 (None, 75)、(None, 75, 18)、(None,) 和 (18, 18)。\n",
    "\n",
    "Total params: 9950953 (37.96 MB)：模型的总参数数量为 9950953，占用内存大小为 37.96 MB。\n",
    "\n",
    "Trainable params: 9950953 (37.96 MB)：可训练的参数数量为 9950953，占用内存大小为 37.96 MB。\n",
    "\n",
    "Non-trainable params: 0 (0.00 Byte)：不可训练的参数数量为 0，占用内存大小为 0.00 Byte。"
   ]
  },
  {
   "cell_type": "markdown",
   "metadata": {},
   "source": [
    "Evaluation"
   ]
  },
  {
   "cell_type": "code",
   "execution_count": 30,
   "metadata": {},
   "outputs": [
    {
     "name": "stdout",
     "output_type": "stream",
     "text": [
      "Epoch 1/20\n",
      "WARNING:tensorflow:From c:\\Users\\tqin0\\AppData\\Local\\Programs\\Python\\Python310\\lib\\site-packages\\keras\\src\\utils\\tf_utils.py:492: The name tf.ragged.RaggedTensorValue is deprecated. Please use tf.compat.v1.ragged.RaggedTensorValue instead.\n",
      "\n",
      "WARNING:tensorflow:Gradients do not exist for variables ['chain_kernel:0'] when minimizing the loss. If you're using `model.compile()`, did you forget to provide a `loss` argument?\n",
      "WARNING:tensorflow:Gradients do not exist for variables ['chain_kernel:0'] when minimizing the loss. If you're using `model.compile()`, did you forget to provide a `loss` argument?\n",
      "674/675 [============================>.] - ETA: 0s - loss: 1.1936\n",
      "Epoch 1: val_loss improved from inf to 1.16473, saving model to ner_crf.h5\n",
      "675/675 [==============================] - 47s 63ms/step - loss: 1.1936 - val_loss: 1.1647\n",
      "Epoch 2/20\n",
      "675/675 [==============================] - ETA: 0s - loss: 1.1134\n",
      "Epoch 2: val_loss improved from 1.16473 to 0.93916, saving model to ner_crf.h5\n",
      "675/675 [==============================] - 41s 60ms/step - loss: 1.1134 - val_loss: 0.9392\n",
      "Epoch 3/20\n",
      "674/675 [============================>.] - ETA: 0s - loss: 0.9571\n",
      "Epoch 3: val_loss did not improve from 0.93916\n",
      "675/675 [==============================] - 41s 61ms/step - loss: 0.9571 - val_loss: 0.9971\n",
      "Epoch 4/20\n",
      "674/675 [============================>.] - ETA: 0s - loss: 1.0717\n",
      "Epoch 4: val_loss did not improve from 0.93916\n",
      "675/675 [==============================] - 41s 61ms/step - loss: 1.0717 - val_loss: 1.1046\n",
      "Epoch 5/20\n",
      "674/675 [============================>.] - ETA: 0s - loss: 1.1040\n",
      "Epoch 5: val_loss did not improve from 0.93916\n",
      "675/675 [==============================] - 41s 61ms/step - loss: 1.1040 - val_loss: 1.1059\n",
      "Epoch 6/20\n",
      "674/675 [============================>.] - ETA: 0s - loss: 1.1013\n",
      "Epoch 6: val_loss did not improve from 0.93916\n",
      "675/675 [==============================] - 41s 60ms/step - loss: 1.1013 - val_loss: 1.1022\n",
      "Epoch 7/20\n",
      "674/675 [============================>.] - ETA: 0s - loss: 1.0981\n",
      "Epoch 7: val_loss did not improve from 0.93916\n",
      "675/675 [==============================] - 41s 61ms/step - loss: 1.0981 - val_loss: 1.0986\n",
      "Epoch 8/20\n",
      "674/675 [============================>.] - ETA: 0s - loss: 1.0928\n",
      "Epoch 8: val_loss did not improve from 0.93916\n",
      "675/675 [==============================] - 42s 62ms/step - loss: 1.0928 - val_loss: 1.0953\n",
      "Epoch 9/20\n",
      "674/675 [============================>.] - ETA: 0s - loss: 0.9776\n",
      "Epoch 9: val_loss improved from 0.93916 to 0.91165, saving model to ner_crf.h5\n",
      "675/675 [==============================] - 41s 61ms/step - loss: 0.9775 - val_loss: 0.9116\n",
      "Epoch 10/20\n",
      "674/675 [============================>.] - ETA: 0s - loss: 0.9535\n",
      "Epoch 10: val_loss did not improve from 0.91165\n",
      "675/675 [==============================] - 41s 60ms/step - loss: 0.9535 - val_loss: 1.0708\n",
      "Epoch 11/20\n",
      "674/675 [============================>.] - ETA: 0s - loss: 1.0803\n",
      "Epoch 11: val_loss did not improve from 0.91165\n",
      "675/675 [==============================] - 41s 60ms/step - loss: 1.0803 - val_loss: 1.0818\n",
      "Epoch 12/20\n",
      "674/675 [============================>.] - ETA: 0s - loss: 1.0818\n",
      "Epoch 12: val_loss did not improve from 0.91165\n",
      "675/675 [==============================] - 41s 60ms/step - loss: 1.0819 - val_loss: 1.0849\n",
      "Epoch 13/20\n",
      "674/675 [============================>.] - ETA: 0s - loss: 0.9987\n",
      "Epoch 13: val_loss improved from 0.91165 to 0.87836, saving model to ner_crf.h5\n",
      "675/675 [==============================] - 41s 61ms/step - loss: 0.9986 - val_loss: 0.8784\n",
      "Epoch 14/20\n",
      "674/675 [============================>.] - ETA: 0s - loss: 0.9128\n",
      "Epoch 14: val_loss did not improve from 0.87836\n",
      "675/675 [==============================] - 41s 61ms/step - loss: 0.9128 - val_loss: 0.9598\n",
      "Epoch 15/20\n",
      "674/675 [============================>.] - ETA: 0s - loss: 0.9435\n",
      "Epoch 15: val_loss did not improve from 0.87836\n",
      "675/675 [==============================] - 41s 60ms/step - loss: 0.9435 - val_loss: 1.0101\n",
      "Epoch 16/20\n",
      "675/675 [==============================] - ETA: 0s - loss: 1.0636\n",
      "Epoch 16: val_loss did not improve from 0.87836\n",
      "675/675 [==============================] - 41s 61ms/step - loss: 1.0636 - val_loss: 1.0714\n",
      "Epoch 17/20\n",
      "674/675 [============================>.] - ETA: 0s - loss: 1.0728\n",
      "Epoch 17: val_loss did not improve from 0.87836\n",
      "675/675 [==============================] - 41s 60ms/step - loss: 1.0728 - val_loss: 1.0775\n",
      "Epoch 18/20\n",
      "674/675 [============================>.] - ETA: 0s - loss: 1.0773\n",
      "Epoch 18: val_loss did not improve from 0.87836\n",
      "675/675 [==============================] - 41s 61ms/step - loss: 1.0773 - val_loss: 1.0789\n",
      "Epoch 19/20\n",
      "674/675 [============================>.] - ETA: 0s - loss: 1.0784\n",
      "Epoch 19: val_loss did not improve from 0.87836\n",
      "675/675 [==============================] - 41s 60ms/step - loss: 1.0784 - val_loss: 1.0819\n",
      "Epoch 20/20\n",
      "674/675 [============================>.] - ETA: 0s - loss: 1.0805\n",
      "Epoch 20: val_loss did not improve from 0.87836\n",
      "675/675 [==============================] - 41s 61ms/step - loss: 1.0805 - val_loss: 1.0818\n"
     ]
    }
   ],
   "source": [
    "history = model.fit(\n",
    "  X_tr,\n",
    "  y_tr,\n",
    "  batch_size=64,\n",
    "  epochs=20,\n",
    "  validation_data=(X_te, y_te),\n",
    "  callbacks=callbacks,\n",
    "  shuffle=True\n",
    ")"
   ]
  },
  {
   "cell_type": "markdown",
   "metadata": {},
   "source": [
    "  这段代码的含义是进行模型的训练。\n",
    "\n",
    "  history = model.fit(...)：使用 fit 方法训练模型，并将训练过程中的历史记录保存在 history 变量中。\n",
    "\n",
    "  X_tr：训练集的输入数据。\n",
    "\n",
    "  y_tr：训练集的标签数据。\n",
    "\n",
    "  batch_size=64：每个训练批次的样本数量为 64。模型将根据这个大小将训练数据划分为多个批次进行训练。\n",
    "\n",
    "  epochs=20：训练的轮数为 20。整个训练集将被完整地遍历 20 次。\n",
    "\n",
    "  validation_data=(X_te, y_te)：验证集的输入数据为 X_te，标签数据为 y_te。在每个训练轮次结束后，模型将使用验证集数据评估模型的性能。\n",
    "\n",
    "  callbacks=callbacks：使用之前定义的回调函数列表 callbacks。这些回调函数可以实现在训练过程中保存模型的检查点、提前停止等功能。\n",
    "\n",
    "  shuffle=True：在每个训练轮次开始前，对训练数据进行洗牌。这样可以随机化训练样本的顺序，帮助模型更好地学习数据的特征。\n",
    "\n",
    "\n",
    "  在神经网络实际训练中,预先定义的 batch size 和训练过程中实际使用的 batch size 可能会存在差异,主要有以下几种情况:\n",
    "  1. 边界情况处理: 当训练集大小不能被预先定义的 batch size 整除时,最后一个 batch 的大小会小于预先定义的 batch size。\n",
    "  2. 动态调整 batch size:有些训练算法会根据训练过程中的情况动态调整 batch size,比如使用自适应 batch size 技术。这种情况下,实际使用的 batch size 会随训练过程而变化。\n",
    "  3. 内存限制:当训练数据或模型太大,无法一次性加载到内存时,实际 batch size 可能会被迫降低以适应内存大小。\n",
    "  4. 数据增强:在训练过程中进行数据增强时,增强后的数据样本数可能会与预先定义的 batch size 不匹配,从而导致实际 batch size 与预定义值不一致。"
   ]
  },
  {
   "cell_type": "code",
   "execution_count": 31,
   "metadata": {},
   "outputs": [
    {
     "data": {
      "image/png": "[encoded data removed]",
      "text/plain": [
       "<Figure size 640x480 with 1 Axes>"
      ]
     },
     "metadata": {},
     "output_type": "display_data"
    }
   ],
   "source": [
    "from matplotlib import pyplot\n",
    "\n",
    "pyplot.plot(history.history['loss'], label='train')\n",
    "pyplot.plot(history.history['val_loss'], label='test')\n",
    "pyplot.title('Loss')\n",
    "pyplot.grid()\n",
    "pyplot.legend()\n",
    "pyplot.show()"
   ]
  },
  {
   "cell_type": "markdown",
   "metadata": {},
   "source": [
    "Since it's still reducing there is a chance it will reduce more with more hyperparam tuning but loss of 0.02 for train and 0.14 with test looks great"
   ]
  },
  {
   "cell_type": "code",
   "execution_count": 32,
   "metadata": {},
   "outputs": [
    {
     "name": "stdout",
     "output_type": "stream",
     "text": [
      "150/150 [==============================] - 3s 7ms/step\n"
     ]
    },
    {
     "data": {
      "image/png": "[encoded data removed]",
      "text/plain": [
       "<Figure size 1000x800 with 1 Axes>"
      ]
     },
     "metadata": {},
     "output_type": "display_data"
    }
   ],
   "source": [
    "# optimize the plot\n",
    "import seaborn as sns\n",
    "import matplotlib.pyplot as plt\n",
    "from sklearn.metrics import confusion_matrix\n",
    "import numpy as np\n",
    "\n",
    "# Make predictions on the test set\n",
    "predictions = model.predict(X_te)\n",
    "\n",
    "# Convert predictions to POS tags\n",
    "predicted_tags = np.argmax(predictions, axis=-1)\n",
    "predicted_tags = [[idx2tag[tag] for tag in sample] for sample in predicted_tags]\n",
    "\n",
    "# Flatten the predicted and true POS tag sequences\n",
    "flatten_predicted = [tag for sample in predicted_tags for tag in sample]\n",
    "flatten_true = [idx2tag[np.argmax(tag)] for sample in y_te for tag in sample]\n",
    "\n",
    "# Get unique tags from the true and predicted sequences\n",
    "unique_tags = list(set(flatten_true + flatten_predicted))\n",
    "\n",
    "# Compute the confusion matrix\n",
    "cm = confusion_matrix(flatten_true, flatten_predicted, labels=unique_tags)\n",
    "\n",
    "# Create a DataFrame for the confusion matrix\n",
    "cm_df = pd.DataFrame(cm, index=unique_tags, columns=unique_tags)\n",
    "\n",
    "# Set up the plot\n",
    "plt.figure(figsize=(10, 8))\n",
    "sns.set(font_scale=0.6)\n",
    "\n",
    "# Plot the confusion matrix as a heatmap\n",
    "sns.heatmap(cm_df, annot=True, cmap=\"Blues\", fmt=\"d\", cbar=False)\n",
    "\n",
    "# Customize the plot\n",
    "plt.title(\"Confusion Matrix\")\n",
    "plt.xlabel(\"Predicted Label\")\n",
    "plt.ylabel(\"True Label\")\n",
    "plt.xticks(rotation=45, ha=\"right\")\n",
    "plt.yticks(rotation=0)\n",
    "plt.gca().invert_xaxis()  # 反转x轴标签位置\n",
    "\n",
    "# Show the plot\n",
    "plt.show()"
   ]
  },
  {
   "cell_type": "markdown",
   "metadata": {},
   "source": [
    "这段代码的含义是生成并展示混淆矩阵的热力图，用于评估模型在测试集上的预测性能。\n",
    "\n",
    "import seaborn as sns：导入可视化库 seaborn。\n",
    "\n",
    "import matplotlib.pyplot as plt：导入 matplotlib.pyplot 用于绘图。\n",
    "\n",
    "from sklearn.metrics import confusion_matrix：从 scikit-learn 库中导入混淆矩阵函数。\n",
    "\n",
    "import numpy as np：导入 NumPy 库。\n",
    "\n",
    "predictions = model.predict(X_te)：使用模型对测试集数据进行预测，将预测结果保存在 predictions 变量中。\n",
    "\n",
    "predicted_tags = np.argmax(predictions, axis=-1)：将预测结果转换为 POS 标签。利用 np.argmax 函数找到每个样本中概率最大的标签索引。\n",
    "\n",
    "predicted_tags = [[idx2tag[tag] for tag in sample] for sample in predicted_tags]：将预测的标签索引转换为对应的 POS 标签，使用 idx2tag 字典将索引映射为标签。\n",
    "\n",
    "flatten_predicted：将预测序列展平为一维列表。\n",
    "\n",
    "flatten_true：将真实序列展平为一维列表。\n",
    "\n",
    "unique_tags：获取预测序列和真实序列中唯一的 POS 标签。\n",
    "\n",
    "cm = confusion_matrix(flatten_true, flatten_predicted, labels=unique_tags)：计算混淆矩阵，将真实标签和预测标签传入 confusion_matrix 函数，同时指定标签列表。\n",
    "\n",
    "cm_df = pd.DataFrame(cm, index=unique_tags, columns=unique_tags)：将混淆矩阵转换为 DataFrame，使用 pd.DataFrame 函数，并指定行和列的索引为唯一的 POS 标签。\n",
    "\n",
    "plt.figure(figsize=(10, 8))：创建一个大小为 10x8 的图形窗口。\n",
    "\n",
    "sns.set(font_scale=1.2)：设置 seaborn 的字体大小为 1.2 倍。\n",
    "\n",
    "sns.heatmap(cm_df, annot=True, cmap=\"Blues\", fmt=\"d\", cbar=False)：绘制热力图，使用 sns.heatmap 函数，传入混淆矩阵 DataFrame，设置注释为 True，使用蓝色调色板，格式化为整数，隐藏颜色条。\n",
    "\n",
    "plt.title(\"Confusion Matrix\")：设置图像标题为 \"Confusion Matrix\"。\n",
    "\n",
    "plt.xlabel(\"Predicted Label\")：设置 x 轴标签为 \"Predicted Label\"。\n",
    "\n",
    "plt.ylabel(\"True Label\")：设置 y 轴标签为 \"True Label\"。\n",
    "\n",
    "plt.xticks(rotation=45, ha=\"right\")：设置 x 轴刻度标签旋转 45 度，并向右对齐。\n",
    "\n",
    "plt.yticks(rotation=0)：设置 y 轴刻度标签不旋转。\n",
    "\n",
    "plt.show()：显示绘制的热力图。"
   ]
  },
  {
   "cell_type": "code",
   "execution_count": 33,
   "metadata": {},
   "outputs": [
    {
     "name": "stderr",
     "output_type": "stream",
     "text": [
      "c:\\Users\\tqin0\\AppData\\Local\\Programs\\Python\\Python310\\lib\\site-packages\\sklearn\\metrics\\_classification.py:1509: UndefinedMetricWarning: Recall is ill-defined and being set to 0.0 in labels with no true samples. Use `zero_division` parameter to control this behavior.\n",
      "  _warn_prf(average, modifier, f\"{metric.capitalize()} is\", len(result))\n",
      "c:\\Users\\tqin0\\AppData\\Local\\Programs\\Python\\Python310\\lib\\site-packages\\sklearn\\metrics\\_classification.py:1509: UndefinedMetricWarning: Recall is ill-defined and being set to 0.0 in labels with no true samples. Use `zero_division` parameter to control this behavior.\n",
      "  _warn_prf(average, modifier, f\"{metric.capitalize()} is\", len(result))\n"
     ]
    },
    {
     "name": "stdout",
     "output_type": "stream",
     "text": [
      "Classification Report:\n",
      "                precision    recall  f1-score   support\n",
      "\n",
      "       I-per       0.00      0.00      0.00         0\n",
      "       B-tim       0.00      0.00      0.00         0\n",
      "         PAD       0.00      0.00      0.00         0\n",
      "       B-per       0.00      0.00      0.00         0\n",
      "       I-geo       0.00      0.00      0.00         0\n",
      "       B-nat       0.00      0.00      0.00         0\n",
      "       I-nat       0.00      0.00      0.00         0\n",
      "       I-eve       0.00      0.00      0.00         0\n",
      "           O       0.09      0.86      0.17      9591\n",
      "       I-tim       0.00      0.00      0.00         0\n",
      "       B-org       0.00      0.00      0.00         0\n",
      "       I-art       0.00      0.00      0.00         0\n",
      "       B-art       0.00      0.00      0.00         0\n",
      "       B-eve       0.00      0.00      0.00         0\n",
      "       B-gpe       0.00      0.00      0.00         0\n",
      "       B-geo       0.91      0.01      0.02    350109\n",
      "       I-gpe       0.00      0.00      0.00         0\n",
      "       I-org       0.00      0.00      0.00         0\n",
      "\n",
      "    accuracy                           0.03    359700\n",
      "   macro avg       0.06      0.05      0.01    359700\n",
      "weighted avg       0.89      0.03      0.02    359700\n",
      "\n"
     ]
    },
    {
     "name": "stderr",
     "output_type": "stream",
     "text": [
      "c:\\Users\\tqin0\\AppData\\Local\\Programs\\Python\\Python310\\lib\\site-packages\\sklearn\\metrics\\_classification.py:1509: UndefinedMetricWarning: Recall is ill-defined and being set to 0.0 in labels with no true samples. Use `zero_division` parameter to control this behavior.\n",
      "  _warn_prf(average, modifier, f\"{metric.capitalize()} is\", len(result))\n"
     ]
    }
   ],
   "source": [
    "from sklearn.metrics import classification_report\n",
    "print(\"Classification Report:\\n \", classification_report(flatten_predicted, flatten_true, labels=unique_tags))"
   ]
  },
  {
   "cell_type": "markdown",
   "metadata": {},
   "source": [
    "## 结果解读\n",
    "这份分类报告显示了您的命名实体识别模型在各个实体类别上的性能指标,包括准确率(Precision)、召回率(Recall)和 F1 Score。让我来分析一下这些结果:\n",
    "\n",
    "整体指标:\n",
    "\n",
    "整体准确率(Accuracy)达到了 0.99,说明模型在总体上表现非常出色。\n",
    "宏平均(Macro Avg)的 F1 Score 为 0.49,说明模型在不同实体类别上的均衡表现一般。\n",
    "加权平均(Weighted Avg)的 F1 Score 为 0.99,说明模型在高频实体类别上的表现很好。\n",
    "实体类别分析:\n",
    "\n",
    "对于人名(B-per)和地理位置(B-geo)这类常见实体,模型的准确率、召回率和 F1 Score 都在 0.8 左右,表现良好。\n",
    "对于时间(B-tim)实体,模型的性能最好,F1 Score 达到了 0.86。\n",
    "但是对于组织(B-org)、艺术品(B-art)、事件(B-eve)等实体,模型的性能较差,F1 Score 都在 0.6 左右甚至为 0。\n",
    "此外,还有一些实体类别(B-nat、I-nat、I-art、I-gpe、I-eve)的支持度很低,模型完全无法识别。\n",
    "PAD 类别:\n",
    "\n",
    "这个 PAD 类别的准确率、召回率和 F1 Score 都达到了 1.0,说明模型很好地识别了非命名实体部分。\n",
    "综合来看,您的模型在一些常见的实体类别上表现很好,但在一些罕见或复杂的实体上还存在较大的识别困难。可以考虑重点优化这些问题实体,并尝试增加训练数据,提高模型在这些类别上的识别能力。总体来说,这是一个相当不错的 NER 模型了。"
   ]
  },
  {
   "cell_type": "markdown",
   "metadata": {},
   "source": [
    "I can see that due to imbalance there are some category with less f1 score. We have used SigmoidFocalCrossEntropy to handle imbalance. We could further use either re-sampling method or more training methods"
   ]
  },
  {
   "cell_type": "code",
   "execution_count": 34,
   "metadata": {},
   "outputs": [
    {
     "name": "stdout",
     "output_type": "stream",
     "text": [
      "1/1 [==============================] - 0s 12ms/step\n",
      "Token: i          Predicted POS: O\n",
      "Token: wanted     Predicted POS: B-geo\n",
      "Token: to         Predicted POS: B-geo\n",
      "Token: go         Predicted POS: B-geo\n",
      "Token: to         Predicted POS: B-geo\n",
      "Token: disney     Predicted POS: B-geo\n",
      "Token: land       Predicted POS: O\n"
     ]
    }
   ],
   "source": [
    "import numpy as np\n",
    "\n",
    "def get_pos_tags(sentence):\n",
    "    # Tokenize the sentence\n",
    "    tokens = sentence.lower().split()\n",
    "\n",
    "    # Convert tokens to word indices\n",
    "    word_indices = [word2idx.get(token, word2idx[\"UNK\"]) for token in tokens]\n",
    "\n",
    "    # Pad the sequence\n",
    "    padded_sequence = pad_sequences([word_indices], maxlen=MAX_LEN, padding=\"post\", value=word2idx[\"PAD\"])\n",
    "\n",
    "    # Make predictions\n",
    "    predictions = model.predict(padded_sequence)[0]\n",
    "\n",
    "    # Convert predictions to POS tags\n",
    "    pos_tags = [idx2tag[np.argmax(pred)] for pred in predictions]\n",
    "\n",
    "    return list(zip(tokens, pos_tags))\n",
    "\n",
    "# Example usage\n",
    "input_sentence = \"I wanted to go to Disney Land\"\n",
    "output = get_pos_tags(input_sentence)\n",
    "\n",
    "# Print the output\n",
    "for token, pos_tag in output:\n",
    "    print(f\"Token: {token:<10} Predicted POS: {pos_tag}\")"
   ]
  },
  {
   "cell_type": "code",
   "execution_count": 35,
   "metadata": {},
   "outputs": [
    {
     "name": "stdout",
     "output_type": "stream",
     "text": [
      "2024-04-27 14:24:28.959274\n"
     ]
    }
   ],
   "source": [
    "import datetime\n",
    "now = datetime.datetime.now()\n",
    "print(now)"
   ]
  },
  {
   "cell_type": "code",
   "execution_count": null,
   "metadata": {},
   "outputs": [],
   "source": []
  },
  {
   "cell_type": "code",
   "execution_count": null,
   "metadata": {},
   "outputs": [],
   "source": []
  },
  {
   "cell_type": "code",
   "execution_count": null,
   "metadata": {},
   "outputs": [],
   "source": []
  },
  {
   "cell_type": "code",
   "execution_count": null,
   "metadata": {},
   "outputs": [],
   "source": []
  },
  {
   "cell_type": "code",
   "execution_count": null,
   "metadata": {},
   "outputs": [],
   "source": []
  },
  {
   "cell_type": "code",
   "execution_count": null,
   "metadata": {},
   "outputs": [],
   "source": []
  },
  {
   "cell_type": "code",
   "execution_count": null,
   "metadata": {},
   "outputs": [],
   "source": []
  },
  {
   "cell_type": "code",
   "execution_count": null,
   "metadata": {},
   "outputs": [],
   "source": []
  },
  {
   "cell_type": "code",
   "execution_count": null,
   "metadata": {},
   "outputs": [],
   "source": []
  },
  {
   "cell_type": "code",
   "execution_count": null,
   "metadata": {},
   "outputs": [],
   "source": []
  }
 ],
 "metadata": {
  "kernelspec": {
   "display_name": "Python 3",
   "language": "python",
   "name": "python3"
  },
  "language_info": {
   "codemirror_mode": {
    "name": "ipython",
    "version": 3
   },
   "file_extension": ".py",
   "mimetype": "text/x-python",
   "name": "python",
   "nbconvert_exporter": "python",
   "pygments_lexer": "ipython3",
   "version": "3.10.0"
  }
 },
 "nbformat": 4,
 "nbformat_minor": 2
}
