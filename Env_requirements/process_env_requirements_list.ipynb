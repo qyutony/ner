{
 "cells": [
  {
   "cell_type": "code",
   "execution_count": 1,
   "metadata": {},
   "outputs": [],
   "source": [
    "with open('requirements.txt', 'r') as file:\n",
    "    lines = file.readlines()\n",
    "\n",
    "new_lines = []\n",
    "for line in lines:\n",
    "    # 去掉行末的换行符\n",
    "    line = line.strip()\n",
    "    # 检查是否为空行\n",
    "    if line:\n",
    "        # 将包名和版本号用 == 连接\n",
    "        parts = line.split()\n",
    "        new_line = f\"{parts[0]}=={parts[1]}\"\n",
    "        new_lines.append(new_line)\n",
    "\n",
    "with open('new_requirements.txt', 'w') as file:\n",
    "    file.write('\\n'.join(new_lines))"
   ]
  }
 ],
 "metadata": {
  "kernelspec": {
   "display_name": "Python 3",
   "language": "python",
   "name": "python3"
  },
  "language_info": {
   "codemirror_mode": {
    "name": "ipython",
    "version": 3
   },
   "file_extension": ".py",
   "mimetype": "text/x-python",
   "name": "python",
   "nbconvert_exporter": "python",
   "pygments_lexer": "ipython3",
   "version": "3.10.0"
  }
 },
 "nbformat": 4,
 "nbformat_minor": 2
}
